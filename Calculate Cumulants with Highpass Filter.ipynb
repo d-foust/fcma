{
 "cells": [
  {
   "cell_type": "code",
   "execution_count": 2,
   "metadata": {},
   "outputs": [],
   "source": [
    "# packages included with Anaconda installation\n",
    "import numpy as np\n",
    "from os.path import join, exists\n",
    "from os import mkdir\n",
    "from tifffile import imread\n",
    "import matplotlib.pyplot as plt\n",
    "from itertools import product\n",
    "from glob import glob\n",
    "from pathlib import Path\n",
    "from scipy.ndimage import binary_erosion\n",
    "import ipympl\n",
    "%matplotlib ipympl\n",
    "\n",
    "# custom packages\n",
    "from highpass_filter import highpass_filter"
   ]
  },
  {
   "cell_type": "code",
   "execution_count": 3,
   "metadata": {},
   "outputs": [],
   "source": [
    "def calc_cumulants(image, mask):\n",
    "    \"\"\"\n",
    "    \"\"\"\n",
    "    nframes, nchannels, nrows, ncols = image.shape\n",
    "    N = mask.sum()\n",
    "    \n",
    "    image_delta = np.zeros([nframes, nchannels, nrows, ncols], dtype='float')\n",
    "    image_delta_sq = np.zeros([nframes, nchannels, nrows, ncols], dtype='float')\n",
    "    \n",
    "    mask_shift = mask[:,:,:-1] * mask[:,:,1:]\n",
    "    \n",
    "    kappa1 = np.zeros(nchannels, dtype='float')\n",
    "    kappa2 = np.zeros([nchannels, nchannels], dtype='float')\n",
    "    mu22   = np.zeros([nchannels, nchannels], dtype='float')\n",
    "    var1   = np.zeros(nchannels, dtype='float')\n",
    "    var2   = np.zeros([nchannels, nchannels], dtype='float')\n",
    "    \n",
    "    for ch in range(nchannels):\n",
    "        kappa1[ch] = image[:,ch][mask].mean()\n",
    "    \n",
    "    for frame in range(nframes):\n",
    "        for channel in range(nchannels):\n",
    "            image_delta[frame, channel] = image[frame,channel] - image[frame,channel][mask[frame]].mean()\n",
    "            image_delta[frame, channel][~mask[frame]] = 0\n",
    "            image_delta_sq[frame, channel] = image_delta[frame, channel]**2\n",
    "    \n",
    "    ch_pairs = list(product(range(nchannels), repeat=2))\n",
    "    for ich, (ch1, ch2) in enumerate(ch_pairs):\n",
    "        kappa2[ch1,ch2] = (image_delta[:,ch1,:,:-1] * image_delta[:,ch2,:,1:])[mask_shift].mean()\n",
    "        mu22[ch1,ch2]   = (image_delta[:,ch1,:,:-1]**2 * image_delta[:,ch2,:,1:]**2)[mask_shift].mean()\n",
    "        \n",
    "    var1 = kappa2[range(nchannels),range(nchannels)] / N\n",
    "    var2 = (kappa2**2 - 2*kappa2 + mu22) / N\n",
    "        \n",
    "    return kappa1, kappa2, var1, var2"
   ]
  },
  {
   "cell_type": "code",
   "execution_count": 4,
   "metadata": {},
   "outputs": [],
   "source": [
    "folders = [\n",
    "         r'D:\\Data\\FFS\\210519 da gprotein stim repeat\\dopamine',\n",
    "         r'D:\\Data\\FFS\\210520 epinephrine stimulation\\epinephrine'\n",
    "]\n",
    "\n",
    "maskfolder = r'unmixed images\\masks'\n",
    "savefolder = r'cumulants - with filtering'\n",
    "\n",
    "window_sz = 3\n",
    "make_correction = True"
   ]
  },
  {
   "cell_type": "code",
   "execution_count": 5,
   "metadata": {},
   "outputs": [],
   "source": [
    "for folder in folders:\n",
    "    image_files = glob(join(folder, '??*.lsm'))\n",
    "    if not exists(join(folder, maskfolder, savefolder)):\n",
    "        mkdir(join(folder, maskfolder, savefolder))\n",
    "    for image_file in image_files:\n",
    "        image_num = Path(image_file).stem\n",
    "        mask_files = glob(join(folder, maskfolder, image_num+'*ROI??.npy'))\n",
    "        if mask_files:\n",
    "            image = imread(image_file)[0]\n",
    "            for mask_file in mask_files:\n",
    "                mask = np.load(mask_file)\n",
    "                binary_erosion(mask, \n",
    "                               structure=np.ones([window_sz,1,1], dtype='bool'), \n",
    "                               border_value=True, \n",
    "                               output=mask)\n",
    "                mask_label = Path(mask_file).stem\n",
    "                image_filtered = highpass_filter(image.astype('float'), window_sz, mask)\n",
    "                kappa1, kappa2, var1, var2 = calc_cumulants(image_filtered, mask)\n",
    "                \n",
    "                if make_correction == True:\n",
    "                    kappa2 *= window_sz / (window_sz - 1)\n",
    "                    var2   *= (window_sz / (window_sz - 1))**2\n",
    "                    \n",
    "                np.save(join(folder, maskfolder, savefolder, mask_label+' kappa1.npy'), kappa1)\n",
    "                np.save(join(folder, maskfolder, savefolder, mask_label+' kappa2.npy'), kappa2)\n",
    "                np.save(join(folder, maskfolder, savefolder, mask_label+' var1.npy'), var1)\n",
    "                np.save(join(folder, maskfolder, savefolder, mask_label+' var2.npy'), var2)"
   ]
  },
  {
   "cell_type": "code",
   "execution_count": null,
   "metadata": {},
   "outputs": [],
   "source": []
  }
 ],
 "metadata": {
  "kernelspec": {
   "display_name": "Python 3",
   "language": "python",
   "name": "python3"
  },
  "language_info": {
   "codemirror_mode": {
    "name": "ipython",
    "version": 3
   },
   "file_extension": ".py",
   "mimetype": "text/x-python",
   "name": "python",
   "nbconvert_exporter": "python",
   "pygments_lexer": "ipython3",
   "version": "3.7.6"
  }
 },
 "nbformat": 4,
 "nbformat_minor": 4
}
