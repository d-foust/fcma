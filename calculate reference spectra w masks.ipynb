{
 "cells": [
  {
   "cell_type": "code",
   "execution_count": 1,
   "metadata": {},
   "outputs": [],
   "source": [
    "import numpy as np\n",
    "import matplotlib.pyplot as plt\n",
    "from ipyfilechooser import FileChooser\n",
    "from glob import glob\n",
    "import pandas as pd\n",
    "from os.path import join\n",
    "from tifffile import TiffFile, imread\n",
    "from ipywidgets import Text\n",
    "import seaborn as sns\n",
    "from pathlib import Path"
   ]
  },
  {
   "cell_type": "markdown",
   "metadata": {},
   "source": [
    "## Select # of species, folders, and labels"
   ]
  },
  {
   "cell_type": "code",
   "execution_count": 2,
   "metadata": {},
   "outputs": [
    {
     "data": {
      "application/vnd.jupyter.widget-view+json": {
       "model_id": "cef186af1b13478285c3e6f68a25f062",
       "version_major": 2,
       "version_minor": 0
      },
      "text/plain": [
       "Text(value='2', description='# Species')"
      ]
     },
     "metadata": {},
     "output_type": "display_data"
    }
   ],
   "source": [
    "numspeciestext = Text(description='# Species', value='2'); numspeciestext"
   ]
  },
  {
   "cell_type": "code",
   "execution_count": 3,
   "metadata": {},
   "outputs": [
    {
     "data": {
      "application/vnd.jupyter.widget-view+json": {
       "model_id": "b8c877ad3c1e4ff8acc15025e79c3f15",
       "version_major": 2,
       "version_minor": 0
      },
      "text/plain": [
       "FileChooser(path='C:\\Users\\dnfst\\Jupyter\\multicolor roi drawing', filename='', title='HTML(value='', layout=La…"
      ]
     },
     "metadata": {},
     "output_type": "display_data"
    },
    {
     "data": {
      "application/vnd.jupyter.widget-view+json": {
       "model_id": "4b77396a18754b098ae44809b91e80d1",
       "version_major": 2,
       "version_minor": 0
      },
      "text/plain": [
       "FileChooser(path='C:\\Users\\dnfst\\Jupyter\\multicolor roi drawing', filename='', title='HTML(value='', layout=La…"
      ]
     },
     "metadata": {},
     "output_type": "display_data"
    },
    {
     "data": {
      "application/vnd.jupyter.widget-view+json": {
       "model_id": "4f11aaf11ccd4dfca6612c458c26a3e5",
       "version_major": 2,
       "version_minor": 0
      },
      "text/plain": [
       "FileChooser(path='C:\\Users\\dnfst\\Jupyter\\multicolor roi drawing', filename='', title='HTML(value='', layout=La…"
      ]
     },
     "metadata": {},
     "output_type": "display_data"
    }
   ],
   "source": [
    "# images folder\n",
    "foldchoosers = [FileChooser() for i in range(int(numspeciestext.value))]\n",
    "[display(foldchooser) for foldchooser in foldchoosers];"
   ]
  },
  {
   "cell_type": "code",
   "execution_count": 4,
   "metadata": {},
   "outputs": [
    {
     "data": {
      "application/vnd.jupyter.widget-view+json": {
       "model_id": "97785ee8643f46e79992b90faf549bc0",
       "version_major": 2,
       "version_minor": 0
      },
      "text/plain": [
       "Text(value='combined images\\\\masks', description='RoI path:')"
      ]
     },
     "metadata": {},
     "output_type": "display_data"
    }
   ],
   "source": [
    "roipathtext = Text(description='RoI path:', value='combined images\\masks'); roipathtext"
   ]
  },
  {
   "cell_type": "code",
   "execution_count": 5,
   "metadata": {},
   "outputs": [
    {
     "data": {
      "application/vnd.jupyter.widget-view+json": {
       "model_id": "fc99575d91844364bab6bc3266493ed4",
       "version_major": 2,
       "version_minor": 0
      },
      "text/plain": [
       "Text(value='mEGFP', description='Species #1')"
      ]
     },
     "metadata": {},
     "output_type": "display_data"
    },
    {
     "data": {
      "application/vnd.jupyter.widget-view+json": {
       "model_id": "615c07150c674352b5cc418317c67696",
       "version_major": 2,
       "version_minor": 0
      },
      "text/plain": [
       "Text(value='mEYFP', description='Species #2')"
      ]
     },
     "metadata": {},
     "output_type": "display_data"
    },
    {
     "data": {
      "application/vnd.jupyter.widget-view+json": {
       "model_id": "1a0ee8e21d944be596c23d7681ff6bfd",
       "version_major": 2,
       "version_minor": 0
      },
      "text/plain": [
       "Text(value='mCherry2', description='Species #3')"
      ]
     },
     "metadata": {},
     "output_type": "display_data"
    }
   ],
   "source": [
    "default_labels = ['mEGFP', 'mEYFP', 'mCherry2']\n",
    "labelstext = [Text(description='Species #'+str(i+1), value=default_labels[i]) \\\n",
    "              for i in range(int(numspeciestext.value))]\n",
    "[display(labeltext) for labeltext in labelstext];"
   ]
  },
  {
   "cell_type": "markdown",
   "metadata": {},
   "source": [
    "## Calculate emission spectra (time consuming)"
   ]
  },
  {
   "cell_type": "code",
   "execution_count": 6,
   "metadata": {},
   "outputs": [],
   "source": [
    "folders = [foldchooser.selected_path for foldchooser in foldchoosers]\n",
    "labels = [labeltext.value for labeltext in labelstext]\n",
    "spectra = []\n",
    "\n",
    "for ifold, folder in enumerate(folders):\n",
    "    files = glob(join(folder, '*.lsm'))\n",
    "    if ifold == 0:\n",
    "        image0_tif = TiffFile(files[0])\n",
    "        channels = image0_tif.lsm_metadata['ChannelColors']['ColorNames']\n",
    "        spectra.append(pd.DataFrame(data={'Channel': channels}))\n",
    "    spectrum = np.zeros(len(channels))\n",
    "    for fidx, file in enumerate(files):\n",
    "        image = imread(file)[0]\n",
    "        label = Path(file).stem[:2]\n",
    "        roifiles = glob(join(folder, roipathtext.value, label+' *ROI??.npy'))\n",
    "        for ridx, rf in enumerate(roifiles):\n",
    "            roi = np.load(rf)\n",
    "            spectrum += image.sum(\n",
    "                           where=roi[:,None]*np.ones([1,len(channels),1,1], dtype='bool'), \n",
    "                           axis=(0,2,3))\n",
    "    spectrum_normed = spectrum.astype('float') / spectrum.sum()\n",
    "    spectra.append(pd.DataFrame(data={labels[ifold]: spectrum_normed}))\n",
    "    \n",
    "spectra_df = pd.concat(spectra, axis=1)"
   ]
  },
  {
   "cell_type": "markdown",
   "metadata": {},
   "source": [
    "## Inspect; table and plot"
   ]
  },
  {
   "cell_type": "code",
   "execution_count": 7,
   "metadata": {},
   "outputs": [
    {
     "data": {
      "text/html": [
       "<div>\n",
       "<style scoped>\n",
       "    .dataframe tbody tr th:only-of-type {\n",
       "        vertical-align: middle;\n",
       "    }\n",
       "\n",
       "    .dataframe tbody tr th {\n",
       "        vertical-align: top;\n",
       "    }\n",
       "\n",
       "    .dataframe thead th {\n",
       "        text-align: right;\n",
       "    }\n",
       "</style>\n",
       "<table border=\"1\" class=\"dataframe\">\n",
       "  <thead>\n",
       "    <tr style=\"text-align: right;\">\n",
       "      <th></th>\n",
       "      <th>Channel</th>\n",
       "      <th>mTurquoise2</th>\n",
       "      <th>mEGFP</th>\n",
       "      <th>cpVenus</th>\n",
       "    </tr>\n",
       "  </thead>\n",
       "  <tbody>\n",
       "    <tr>\n",
       "      <th>0</th>\n",
       "      <td>450</td>\n",
       "      <td>0.000227</td>\n",
       "      <td>0.000111</td>\n",
       "      <td>0.000086</td>\n",
       "    </tr>\n",
       "    <tr>\n",
       "      <th>1</th>\n",
       "      <td>459</td>\n",
       "      <td>0.002941</td>\n",
       "      <td>0.000591</td>\n",
       "      <td>0.000098</td>\n",
       "    </tr>\n",
       "    <tr>\n",
       "      <th>2</th>\n",
       "      <td>468</td>\n",
       "      <td>0.080711</td>\n",
       "      <td>0.013670</td>\n",
       "      <td>0.000696</td>\n",
       "    </tr>\n",
       "    <tr>\n",
       "      <th>3</th>\n",
       "      <td>477</td>\n",
       "      <td>0.115480</td>\n",
       "      <td>0.018401</td>\n",
       "      <td>0.001306</td>\n",
       "    </tr>\n",
       "    <tr>\n",
       "      <th>4</th>\n",
       "      <td>486</td>\n",
       "      <td>0.096995</td>\n",
       "      <td>0.028490</td>\n",
       "      <td>0.002480</td>\n",
       "    </tr>\n",
       "    <tr>\n",
       "      <th>5</th>\n",
       "      <td>495</td>\n",
       "      <td>0.111672</td>\n",
       "      <td>0.070406</td>\n",
       "      <td>0.003810</td>\n",
       "    </tr>\n",
       "    <tr>\n",
       "      <th>6</th>\n",
       "      <td>504</td>\n",
       "      <td>0.109225</td>\n",
       "      <td>0.137999</td>\n",
       "      <td>0.009259</td>\n",
       "    </tr>\n",
       "    <tr>\n",
       "      <th>7</th>\n",
       "      <td>512</td>\n",
       "      <td>0.102233</td>\n",
       "      <td>0.179157</td>\n",
       "      <td>0.045444</td>\n",
       "    </tr>\n",
       "    <tr>\n",
       "      <th>8</th>\n",
       "      <td>521</td>\n",
       "      <td>0.080510</td>\n",
       "      <td>0.135221</td>\n",
       "      <td>0.145945</td>\n",
       "    </tr>\n",
       "    <tr>\n",
       "      <th>9</th>\n",
       "      <td>530</td>\n",
       "      <td>0.067371</td>\n",
       "      <td>0.101641</td>\n",
       "      <td>0.205839</td>\n",
       "    </tr>\n",
       "    <tr>\n",
       "      <th>10</th>\n",
       "      <td>539</td>\n",
       "      <td>0.054190</td>\n",
       "      <td>0.077148</td>\n",
       "      <td>0.156852</td>\n",
       "    </tr>\n",
       "    <tr>\n",
       "      <th>11</th>\n",
       "      <td>548</td>\n",
       "      <td>0.046017</td>\n",
       "      <td>0.066108</td>\n",
       "      <td>0.111154</td>\n",
       "    </tr>\n",
       "    <tr>\n",
       "      <th>12</th>\n",
       "      <td>557</td>\n",
       "      <td>0.035742</td>\n",
       "      <td>0.049979</td>\n",
       "      <td>0.083224</td>\n",
       "    </tr>\n",
       "    <tr>\n",
       "      <th>13</th>\n",
       "      <td>566</td>\n",
       "      <td>0.031742</td>\n",
       "      <td>0.042414</td>\n",
       "      <td>0.082191</td>\n",
       "    </tr>\n",
       "    <tr>\n",
       "      <th>14</th>\n",
       "      <td>575</td>\n",
       "      <td>0.022035</td>\n",
       "      <td>0.027643</td>\n",
       "      <td>0.058310</td>\n",
       "    </tr>\n",
       "    <tr>\n",
       "      <th>15</th>\n",
       "      <td>584</td>\n",
       "      <td>0.018057</td>\n",
       "      <td>0.021956</td>\n",
       "      <td>0.043313</td>\n",
       "    </tr>\n",
       "    <tr>\n",
       "      <th>16</th>\n",
       "      <td>593</td>\n",
       "      <td>0.014256</td>\n",
       "      <td>0.016789</td>\n",
       "      <td>0.029832</td>\n",
       "    </tr>\n",
       "    <tr>\n",
       "      <th>17</th>\n",
       "      <td>601</td>\n",
       "      <td>0.010596</td>\n",
       "      <td>0.012277</td>\n",
       "      <td>0.020162</td>\n",
       "    </tr>\n",
       "  </tbody>\n",
       "</table>\n",
       "</div>"
      ],
      "text/plain": [
       "   Channel  mTurquoise2     mEGFP   cpVenus\n",
       "0      450     0.000227  0.000111  0.000086\n",
       "1      459     0.002941  0.000591  0.000098\n",
       "2      468     0.080711  0.013670  0.000696\n",
       "3      477     0.115480  0.018401  0.001306\n",
       "4      486     0.096995  0.028490  0.002480\n",
       "5      495     0.111672  0.070406  0.003810\n",
       "6      504     0.109225  0.137999  0.009259\n",
       "7      512     0.102233  0.179157  0.045444\n",
       "8      521     0.080510  0.135221  0.145945\n",
       "9      530     0.067371  0.101641  0.205839\n",
       "10     539     0.054190  0.077148  0.156852\n",
       "11     548     0.046017  0.066108  0.111154\n",
       "12     557     0.035742  0.049979  0.083224\n",
       "13     566     0.031742  0.042414  0.082191\n",
       "14     575     0.022035  0.027643  0.058310\n",
       "15     584     0.018057  0.021956  0.043313\n",
       "16     593     0.014256  0.016789  0.029832\n",
       "17     601     0.010596  0.012277  0.020162"
      ]
     },
     "execution_count": 7,
     "metadata": {},
     "output_type": "execute_result"
    }
   ],
   "source": [
    "spectra_df"
   ]
  },
  {
   "cell_type": "code",
   "execution_count": 8,
   "metadata": {},
   "outputs": [
    {
     "data": {
      "application/vnd.jupyter.widget-view+json": {
       "model_id": "5f53563d60974a67af9551f49957651a",
       "version_major": 2,
       "version_minor": 0
      },
      "text/plain": [
       "Canvas(toolbar=Toolbar(toolitems=[('Home', 'Reset original view', 'home', 'home'), ('Back', 'Back to previous …"
      ]
     },
     "metadata": {},
     "output_type": "display_data"
    }
   ],
   "source": [
    "%matplotlib ipympl\n",
    "fig, ax = plt.subplots(figsize=(3.25, 2.8))\n",
    "for label in labels:\n",
    "    plt.plot(spectra_df['Channel'], spectra_df[label])\n",
    "sns.despine()\n",
    "plt.grid()\n",
    "plt.xlabel('Channel')\n",
    "plt.ylabel('Emission (AU)')\n",
    "plt.xticks(spectra_df['Channel'][::2], rotation='vertical')\n",
    "plt.legend(labels)\n",
    "plt.tight_layout();"
   ]
  },
  {
   "cell_type": "markdown",
   "metadata": {},
   "source": [
    "## Save"
   ]
  },
  {
   "cell_type": "code",
   "execution_count": 9,
   "metadata": {},
   "outputs": [
    {
     "data": {
      "application/vnd.jupyter.widget-view+json": {
       "model_id": "55c1f2ad534d4276859bbfd5d4b4823b",
       "version_major": 2,
       "version_minor": 0
      },
      "text/plain": [
       "FileChooser(path='C:\\Users\\dnfst\\Jupyter\\multicolor roi drawing', filename='', title='HTML(value='', layout=La…"
      ]
     },
     "metadata": {},
     "output_type": "display_data"
    }
   ],
   "source": [
    "savechooser = FileChooser(); savechooser"
   ]
  },
  {
   "cell_type": "code",
   "execution_count": 10,
   "metadata": {},
   "outputs": [
    {
     "data": {
      "application/vnd.jupyter.widget-view+json": {
       "model_id": "e70c9c84e7254298b5832a948c91e7f6",
       "version_major": 2,
       "version_minor": 0
      },
      "text/plain": [
       "Text(value='emission spectra', description='Name:')"
      ]
     },
     "metadata": {},
     "output_type": "display_data"
    }
   ],
   "source": [
    "savefiletext = Text(description='Name:', value='emission spectra'); savefiletext"
   ]
  },
  {
   "cell_type": "code",
   "execution_count": 11,
   "metadata": {},
   "outputs": [],
   "source": [
    "spectra_df.to_csv(join(savechooser.selected_path, savefiletext.value+'.csv'), index=False)"
   ]
  },
  {
   "cell_type": "code",
   "execution_count": null,
   "metadata": {},
   "outputs": [],
   "source": []
  }
 ],
 "metadata": {
  "kernelspec": {
   "display_name": "Python 3",
   "language": "python",
   "name": "python3"
  },
  "language_info": {
   "codemirror_mode": {
    "name": "ipython",
    "version": 3
   },
   "file_extension": ".py",
   "mimetype": "text/x-python",
   "name": "python",
   "nbconvert_exporter": "python",
   "pygments_lexer": "ipython3",
   "version": "3.7.6"
  }
 },
 "nbformat": 4,
 "nbformat_minor": 4
}
