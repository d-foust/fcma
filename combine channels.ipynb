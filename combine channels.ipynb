{
 "cells": [
  {
   "cell_type": "code",
   "execution_count": 1,
   "metadata": {},
   "outputs": [],
   "source": [
    "# packages from Anaconda installation\n",
    "from ipywidgets import Text\n",
    "from os.path import exists, join\n",
    "from os import makedirs\n",
    "from glob import glob\n",
    "from pathlib import Path\n",
    "from numpy import save\n",
    "\n",
    "# 3rd party packages\n",
    "from ipyfilechooser import FileChooser # pip install ipyfilechooser\n",
    "from tifffile import imread            # pip install tifffile"
   ]
  },
  {
   "cell_type": "markdown",
   "metadata": {},
   "source": [
    "## Select folders for unmixing"
   ]
  },
  {
   "cell_type": "code",
   "execution_count": 2,
   "metadata": {},
   "outputs": [
    {
     "data": {
      "application/vnd.jupyter.widget-view+json": {
       "model_id": "2b069f9ad12e49a3bba7c9386aafb668",
       "version_major": 2,
       "version_minor": 0
      },
      "text/plain": [
       "Text(value='1', description='# folders')"
      ]
     },
     "metadata": {},
     "output_type": "display_data"
    }
   ],
   "source": [
    "numfoldertext = Text(description='# folders', value='1'); numfoldertext"
   ]
  },
  {
   "cell_type": "code",
   "execution_count": 3,
   "metadata": {},
   "outputs": [
    {
     "data": {
      "application/vnd.jupyter.widget-view+json": {
       "model_id": "49ec16384ef3454cbc47d1bc1cf6d63c",
       "version_major": 2,
       "version_minor": 0
      },
      "text/plain": [
       "FileChooser(path='C:\\Users\\dnfst', filename='', title='HTML(value='', layout=Layout(display='none'))', show_hi…"
      ]
     },
     "metadata": {},
     "output_type": "display_data"
    },
    {
     "data": {
      "application/vnd.jupyter.widget-view+json": {
       "model_id": "b6477f24137744d6930aaa3e7ee88897",
       "version_major": 2,
       "version_minor": 0
      },
      "text/plain": [
       "FileChooser(path='C:\\Users\\dnfst', filename='', title='HTML(value='', layout=Layout(display='none'))', show_hi…"
      ]
     },
     "metadata": {},
     "output_type": "display_data"
    },
    {
     "data": {
      "application/vnd.jupyter.widget-view+json": {
       "model_id": "505f8858475447da8c74fc1a9517b3a6",
       "version_major": 2,
       "version_minor": 0
      },
      "text/plain": [
       "FileChooser(path='C:\\Users\\dnfst', filename='', title='HTML(value='', layout=Layout(display='none'))', show_hi…"
      ]
     },
     "metadata": {},
     "output_type": "display_data"
    }
   ],
   "source": [
    "default_path = str(Path.home())\n",
    "folderchoosers = [FileChooser(path=default_path) for i in range(int(numfoldertext.value))];\n",
    "[display(folderchooser) for folderchooser in folderchoosers];"
   ]
  },
  {
   "cell_type": "markdown",
   "metadata": {},
   "source": [
    "## Choose name for folder where unmixed images will be saved"
   ]
  },
  {
   "cell_type": "code",
   "execution_count": 4,
   "metadata": {},
   "outputs": [
    {
     "data": {
      "application/vnd.jupyter.widget-view+json": {
       "model_id": "b35f0dc3c48545848bb05216e56fec81",
       "version_major": 2,
       "version_minor": 0
      },
      "text/plain": [
       "Text(value='combined images', description='Save location for unmixed images:')"
      ]
     },
     "metadata": {},
     "output_type": "display_data"
    }
   ],
   "source": [
    "savefoldertext = Text(description='Save location for unmixed images:', value='combined images')\n",
    "savefoldertext"
   ]
  },
  {
   "cell_type": "markdown",
   "metadata": {},
   "source": [
    "## Unmix and save (time consuming)"
   ]
  },
  {
   "cell_type": "code",
   "execution_count": 5,
   "metadata": {},
   "outputs": [],
   "source": [
    "folders = [folderchooser.selected_path for folderchooser in folderchoosers]\n",
    "\n",
    "for folder in folders:\n",
    "    # create save folder if doesn't already exist\n",
    "    if not exists(join(folder, savefoldertext.value)):\n",
    "        makedirs(join(folder, savefoldertext.value))\n",
    "        \n",
    "    files = glob(join(folder, '*.lsm')) # will use any *.lsm file\n",
    "    for file in files:\n",
    "        image = imread(file)[0] # <- [0] to remove 'extra' dimension\n",
    "        image_combined = image.sum(axis=(1))[:,None,:,:] # sum along color-axis, keep dimensions\n",
    "        label = Path(file).stem\n",
    "        save(join(folder, savefoldertext.value, label+' unmixed.npy'), image_combined)"
   ]
  },
  {
   "cell_type": "code",
   "execution_count": null,
   "metadata": {},
   "outputs": [],
   "source": []
  }
 ],
 "metadata": {
  "kernelspec": {
   "display_name": "Python 3",
   "language": "python",
   "name": "python3"
  },
  "language_info": {
   "codemirror_mode": {
    "name": "ipython",
    "version": 3
   },
   "file_extension": ".py",
   "mimetype": "text/x-python",
   "name": "python",
   "nbconvert_exporter": "python",
   "pygments_lexer": "ipython3",
   "version": "3.7.6"
  }
 },
 "nbformat": 4,
 "nbformat_minor": 4
}
